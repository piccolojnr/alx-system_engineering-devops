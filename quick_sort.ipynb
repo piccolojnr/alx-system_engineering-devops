{
 "cells": [
  {
   "cell_type": "code",
   "execution_count": 1,
   "metadata": {},
   "outputs": [],
   "source": [
    "def quick_sort(list):\n",
    "    if len(list) <= 1 :\n",
    "        return list\n",
    "    pivot = list[0]\n",
    "    left = []\n",
    "    right = []\n",
    "    middle = []\n",
    "    for val in list:\n",
    "        if val > pivot:\n",
    "            right.append(val)\n",
    "        elif val < pivot:\n",
    "            left.append(val)\n",
    "        else:\n",
    "            middle.append(val)\n",
    "    left = quick_sort(left)\n",
    "    right = quick_sort(right)\n",
    "    return left + middle + right"
   ]
  },
  {
   "cell_type": "code",
   "execution_count": 3,
   "metadata": {},
   "outputs": [
    {
     "name": "stdout",
     "output_type": "stream",
     "text": [
      "[1, 1, 2, 3, 3, 4, 5, 5, 5, 6, 9]\n"
     ]
    }
   ],
   "source": [
    "print(quick_sort([3, 1, 4, 1, 5, 9, 2, 6, 5, 3, 5]))"
   ]
  }
 ],
 "metadata": {
  "kernelspec": {
   "display_name": "Python 3",
   "language": "python",
   "name": "python3"
  },
  "language_info": {
   "codemirror_mode": {
    "name": "ipython",
    "version": 3
   },
   "file_extension": ".py",
   "mimetype": "text/x-python",
   "name": "python",
   "nbconvert_exporter": "python",
   "pygments_lexer": "ipython3",
   "version": "3.10.12"
  }
 },
 "nbformat": 4,
 "nbformat_minor": 2
}
