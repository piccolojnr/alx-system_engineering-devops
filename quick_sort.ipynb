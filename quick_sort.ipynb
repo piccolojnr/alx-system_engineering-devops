{
 "cells": [
  {
   "cell_type": "code",
   "execution_count": 80,
   "metadata": {},
   "outputs": [],
   "source": [
    "import requests\n",
    "\n",
    "\n",
    "def count_words(subreddit, word_list, after=None, word_count={}):\n",
    "    \"\"\"_summary_\"\"\"\n",
    "    if not word_count:\n",
    "        word_count = {w.lower(): 0 for w in word_list}\n",
    "\n",
    "    url = f\"https://www.reddit.com/r/{subreddit}/hot.json\"\n",
    "    headers = {\"User-Agent\": \"Custom User Agent\"}\n",
    "    response = requests.get(\n",
    "        url,\n",
    "        headers=headers,\n",
    "        params={\"limit\": 100, \"after\": after},\n",
    "        allow_redirects=False,\n",
    "    )\n",
    "    try:\n",
    "        if response.status_code == 200:\n",
    "            data = response.json()\n",
    "            for child in data.get(\"data\").get(\"children\"):\n",
    "                titles = child.get(\"data\").get(\"title\").split(\" \")\n",
    "                for k in word_count.keys():\n",
    "                    word_count[k] += titles.count(k)\n",
    "\n",
    "            after = data.get(\"data\").get(\"after\")\n",
    "\n",
    "            if after is None:\n",
    "                wc = sorted(word_count.items(), key=lambda x: (-x[1], x[0]))\n",
    "                for w in wc:\n",
    "                    if w[1]:\n",
    "                        print(\"{}: {}\".format(w[0], w[1]))\n",
    "                return None\n",
    "            else:\n",
    "                print(after)\n",
    "                count_words(subreddit, word_list, after, word_count)\n",
    "\n",
    "        else:\n",
    "            return None\n",
    "    except:\n",
    "        return None"
   ]
  },
  {
   "cell_type": "code",
   "execution_count": 81,
   "metadata": {},
   "outputs": [
    {
     "name": "stdout",
     "output_type": "stream",
     "text": [
      "t3_1b5nxrg\n",
      "t3_1b3ozo4\n",
      "t3_1b0scow\n",
      "t3_1b0lwwm\n",
      "t3_1axbzq0\n",
      "t3_1avq6ia\n",
      "t3_1auir94\n",
      "t3_1asf8mb\n",
      "and: 145\n",
      "the: 123\n",
      "on: 40\n",
      "store: 2\n"
     ]
    }
   ],
   "source": [
    "word_list = [\"and\", \"the\", \"on\", \"store\"]\n",
    "count_words(\"programming\", word_list)"
   ]
  }
 ],
 "metadata": {
  "kernelspec": {
   "display_name": "Python 3",
   "language": "python",
   "name": "python3"
  },
  "language_info": {
   "codemirror_mode": {
    "name": "ipython",
    "version": 3
   },
   "file_extension": ".py",
   "mimetype": "text/x-python",
   "name": "python",
   "nbconvert_exporter": "python",
   "pygments_lexer": "ipython3",
   "version": "3.10.12"
  }
 },
 "nbformat": 4,
 "nbformat_minor": 2
}
